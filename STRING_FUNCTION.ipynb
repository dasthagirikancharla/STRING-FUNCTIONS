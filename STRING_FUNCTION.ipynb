{
  "nbformat": 4,
  "nbformat_minor": 0,
  "metadata": {
    "colab": {
      "name": "STRING FUNCTION.ipynb",
      "provenance": []
    },
    "kernelspec": {
      "name": "python3",
      "display_name": "Python 3"
    },
    "language_info": {
      "name": "python"
    }
  },
  "cells": [
    {
      "cell_type": "code",
      "metadata": {
        "colab": {
          "base_uri": "https://localhost:8080/"
        },
        "id": "TFA1DleF1m0G",
        "outputId": "b3b8e3b6-ef51-4a1f-b41d-ed493138820c"
      },
      "source": [
        "x=\"APPLEFRUITBANANAFRUITKIWIFRUITMANGOFRUIT\"\n",
        "y=x.split(\"FRUIT\")\n",
        "print(y)\n",
        "print(y[1])\n",
        "print(y[2])\n",
        "print(y[3])"
      ],
      "execution_count": 1,
      "outputs": [
        {
          "output_type": "stream",
          "name": "stdout",
          "text": [
            "['APPLE', 'BANANA', 'KIWI', 'MANGO', '']\n",
            "BANANA\n",
            "KIWI\n",
            "MANGO\n"
          ]
        }
      ]
    },
    {
      "cell_type": "code",
      "metadata": {
        "colab": {
          "base_uri": "https://localhost:8080/"
        },
        "id": "i9b_jzrH1qb8",
        "outputId": "ede5c7ee-ca17-4db0-810f-a44ea7aa31ac"
      },
      "source": [
        "email=\"dasthagiri.kancharla@gmail.com\"\n",
        "## First splitting username\n",
        "mail=email.split(\"@\",1)\n",
        "username=email.split(\"@\",1)[0]\n",
        "print(\"Username from email is:\",username)\n",
        "gmail=email.split(\"@\",1)[1].capitalize()\n",
        "## from username we split name and surname\n",
        "username.split(\".\",1)\n",
        "name=username.split(\".\",1)[0].capitalize()\n",
        "print(\"Name from email is:\",name)\n",
        "surname=username.split(\".\",1)[1].capitalize()\n",
        "print(\"SurName from email is:\",surname)\n",
        "print(\"Mail type: \",gmail)"
      ],
      "execution_count": 3,
      "outputs": [
        {
          "output_type": "stream",
          "name": "stdout",
          "text": [
            "Username from email is: dasthagiri.kancharla\n",
            "Name from email is: Dasthagiri\n",
            "SurName from email is: Kancharla\n",
            "Mail type:  Gmail.com\n"
          ]
        }
      ]
    },
    {
      "cell_type": "code",
      "metadata": {
        "colab": {
          "base_uri": "https://localhost:8080/"
        },
        "id": "Lfxt22zm1uMr",
        "outputId": "03d688d4-1f12-4823-8755-f20bf59c0af2"
      },
      "source": [
        "email=\"giri.gowd.1997@gmail.com\"\n",
        "mail=email.split(\".\",2)\n",
        "## splitting name and last name\n",
        "name=email.split(\".\",2)[0].capitalize()\n",
        "print(\"First name from email is: \",name)\n",
        "\n",
        "lastname=email.split(\".\",2)[1].capitalize()\n",
        "print(\"LastName from email is: \",lastname)\n",
        "\n",
        "Year=email.split(\".\",2)[2]\n",
        "age=Year.split(\"@\",1)[0]\n",
        "print(\"Yearfrom email is: \",age)\n",
        "\n",
        "Year=email.split(\".\",2)[2]\n",
        "mailtype=Year.split(\"@\",1)[1].capitalize()\n",
        "print(\"mail type: \",mailtype)"
      ],
      "execution_count": 4,
      "outputs": [
        {
          "output_type": "stream",
          "name": "stdout",
          "text": [
            "First name from email is:  Giri\n",
            "LastName from email is:  Gowd\n",
            "Yearfrom email is:  1997\n",
            "mail type:  Gmail.com\n"
          ]
        }
      ]
    },
    {
      "cell_type": "code",
      "metadata": {
        "id": "RoEu6AF212OQ"
      },
      "source": [
        ""
      ],
      "execution_count": null,
      "outputs": []
    }
  ]
}